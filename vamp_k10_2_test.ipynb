{
 "cells": [
  {
   "cell_type": "code",
   "execution_count": 1,
   "metadata": {
    "colab": {
     "base_uri": "https://localhost:8080/"
    },
    "id": "cYOsPTMQTY4s",
    "outputId": "2f12a5b1-814e-4159-dcc5-e2a6803fb168"
   },
   "outputs": [
    {
     "name": "stdout",
     "output_type": "stream",
     "text": [
      "Mounted at /content/drive\n"
     ]
    }
   ],
   "source": [
    "from google.colab import drive\n",
    "drive.mount('/content/drive', force_remount=True)"
   ]
  },
  {
   "cell_type": "code",
   "execution_count": 2,
   "metadata": {
    "colab": {
     "base_uri": "https://localhost:8080/",
     "height": 35
    },
    "id": "e-i9vkB6Tk_q",
    "outputId": "2c64413a-ea55-4b09-8998-a3da39a4a4ca"
   },
   "outputs": [
    {
     "data": {
      "application/vnd.google.colaboratory.intrinsic+json": {
       "type": "string"
      },
      "text/plain": [
       "'/device:GPU:0'"
      ]
     },
     "execution_count": 2,
     "metadata": {
      "tags": []
     },
     "output_type": "execute_result"
    }
   ],
   "source": [
    "import tensorflow as tf\n",
    "tf.test.gpu_device_name()"
   ]
  },
  {
   "cell_type": "code",
   "execution_count": 3,
   "metadata": {
    "colab": {
     "base_uri": "https://localhost:8080/"
    },
    "id": "SZRcA9r0T06B",
    "outputId": "4f3e1617-a510-4868-abe4-94836a743091"
   },
   "outputs": [
    {
     "name": "stdout",
     "output_type": "stream",
     "text": [
      "/content/drive/MyDrive/Colab Notebooks\n"
     ]
    }
   ],
   "source": [
    "cd \"/content/drive/MyDrive/Colab Notebooks\""
   ]
  },
  {
   "cell_type": "code",
   "execution_count": null,
   "metadata": {
    "colab": {
     "base_uri": "https://localhost:8080/"
    },
    "id": "onIxJvv7WU88",
    "outputId": "a4bba373-828c-44f5-b793-5c94dbba2d6e",
    "scrolled": false
   },
   "outputs": [
    {
     "name": "stdout",
     "output_type": "stream",
     "text": [
      "\n",
      "MODEL SETTINGS: \n",
      " Namespace(batch_size=100, cuda=False, dataset='mnist', decoder_dim=256, early_stopping_epochs=100, encoder_dim=256, epochs=1000, flow='planar', gpu_num=0, learning_rate=0.0005, log_interval=10, manual_seed=55158, max_beta=1.0, min_beta=0.0, no_cuda=False, num_flows=10, out_dir='snapshots', testing=True, vampprior=True, warmup=100, z_size=64) \n",
      "\n",
      "Random Seed:  55158\n",
      "PlanarVAE(\n",
      "  (encoder): MLP(\n",
      "    (first): Linear(in_features=784, out_features=256, bias=True)\n",
      "    (layers): ModuleList(\n",
      "      (0): Linear(in_features=256, out_features=256, bias=True)\n",
      "      (1): Linear(in_features=256, out_features=256, bias=True)\n",
      "      (2): Linear(in_features=256, out_features=256, bias=True)\n",
      "    )\n",
      "    (last): Linear(in_features=256, out_features=256, bias=True)\n",
      "  )\n",
      "  (decoder): MLP(\n",
      "    (first): Linear(in_features=64, out_features=256, bias=True)\n",
      "    (layers): ModuleList(\n",
      "      (0): Linear(in_features=256, out_features=256, bias=True)\n",
      "      (1): Linear(in_features=256, out_features=256, bias=True)\n",
      "      (2): Linear(in_features=256, out_features=256, bias=True)\n",
      "    )\n",
      "    (last): Linear(in_features=256, out_features=256, bias=True)\n",
      "  )\n",
      "  (mu): Linear(in_features=256, out_features=64, bias=True)\n",
      "  (var): Sequential(\n",
      "    (0): Linear(in_features=256, out_features=64, bias=True)\n",
      "    (1): Softplus(beta=1, threshold=20)\n",
      "    (2): Hardtanh(min_val=0.0001, max_val=5.0)\n",
      "  )\n",
      "  (p_mu): Sequential(\n",
      "    (0): Linear(in_features=256, out_features=784, bias=True)\n",
      "    (1): Sigmoid()\n",
      "  )\n",
      "  (amor_u): Linear(in_features=256, out_features=640, bias=True)\n",
      "  (amor_w): Linear(in_features=256, out_features=640, bias=True)\n",
      "  (amor_b): Linear(in_features=256, out_features=10, bias=True)\n",
      "  (flow_0): Planar(\n",
      "    (h): Tanh()\n",
      "  )\n",
      "  (flow_1): Planar(\n",
      "    (h): Tanh()\n",
      "  )\n",
      "  (flow_2): Planar(\n",
      "    (h): Tanh()\n",
      "  )\n",
      "  (flow_3): Planar(\n",
      "    (h): Tanh()\n",
      "  )\n",
      "  (flow_4): Planar(\n",
      "    (h): Tanh()\n",
      "  )\n",
      "  (flow_5): Planar(\n",
      "    (h): Tanh()\n",
      "  )\n",
      "  (flow_6): Planar(\n",
      "    (h): Tanh()\n",
      "  )\n",
      "  (flow_7): Planar(\n",
      "    (h): Tanh()\n",
      "  )\n",
      "  (flow_8): Planar(\n",
      "    (h): Tanh()\n",
      "  )\n",
      "  (flow_9): Planar(\n",
      "    (h): Tanh()\n",
      "  )\n",
      "  (pseudo_layer): Linear(in_features=500, out_features=784, bias=False)\n",
      "  (pseudo_nonlin): Hardtanh(min_val=0.0, max_val=1.0)\n",
      ")\n",
      "Epoch:   1 [  100/50000 ( 0%)]  \tLoss:  -14.829136\trec:  543.334900\tkl:  -20.316818\n",
      "Epoch:   1 [ 1100/50000 ( 2%)]  \tLoss:  -23.640959\trec:  491.534546\tkl:  -29.096992\n",
      "Epoch:   1 [ 2100/50000 ( 4%)]  \tLoss:  -46.597919\trec:  393.433197\tkl:  -51.358463\n",
      "Epoch:   1 [ 3100/50000 ( 6%)]  \tLoss:  -59.611012\trec:  233.126022\tkl:  -62.664963\n",
      "Epoch:   1 [ 4100/50000 ( 8%)]  \tLoss:  -66.231087\trec:  228.803009\tkl:  -69.457207\n",
      "Epoch:   1 [ 5100/50000 (10%)]  \tLoss:  -71.970314\trec:  210.982300\tkl:  -75.156151\n",
      "Epoch:   1 [ 6100/50000 (12%)]  \tLoss:  -74.268181\trec:  215.628632\tkl:  -77.739807\n",
      "Epoch:   1 [ 7100/50000 (14%)]  \tLoss:  -76.857224\trec:  211.722366\tkl:  -80.477676\n",
      "Epoch:   1 [ 8100/50000 (16%)]  \tLoss:  -76.155716\trec:  219.138626\tkl:  -80.122124\n",
      "Epoch:   1 [ 9100/50000 (18%)]  \tLoss:  -78.093811\trec:  208.362183\tkl:  -82.073524\n",
      "Epoch:   1 [10100/50000 (20%)]  \tLoss:  -76.725792\trec:  203.700348\tkl:  -80.820168\n",
      "Epoch:   1 [11100/50000 (22%)]  \tLoss:  -77.722244\trec:  212.725037\tkl:  -82.210739\n",
      "Epoch:   1 [12100/50000 (24%)]  \tLoss:  -76.905197\trec:  204.080902\tkl:  -81.415382\n",
      "Epoch:   1 [13100/50000 (26%)]  \tLoss:  -77.217361\trec:  205.630630\tkl:  -81.967430\n",
      "Epoch:   1 [14100/50000 (28%)]  \tLoss:  -76.701515\trec:  207.645981\tkl:  -81.705780\n",
      "Epoch:   1 [15100/50000 (30%)]  \tLoss:  -75.699539\trec:  212.905502\tkl:  -81.043472\n",
      "Epoch:   1 [16100/50000 (32%)]  \tLoss:  -75.198296\trec:  206.087311\tkl:  -80.577171\n",
      "Epoch:   1 [17100/50000 (34%)]  \tLoss:  -75.560356\trec:  203.357498\tkl:  -81.071342\n",
      "Epoch:   1 [18100/50000 (36%)]  \tLoss:  -75.994057\trec:  206.639099\tkl:  -81.800613\n",
      "Epoch:   1 [19100/50000 (38%)]  \tLoss:  -74.707832\trec:  210.759460\tkl:  -80.840935\n",
      "Epoch:   1 [20100/50000 (40%)]  \tLoss:  -74.217522\trec:  210.020035\tkl:  -80.539124\n",
      "Epoch:   1 [21100/50000 (42%)]  \tLoss:  -74.377609\trec:  206.409103\tkl:  -80.796936\n",
      "Epoch:   1 [22100/50000 (44%)]  \tLoss:  -73.897766\trec:  204.015579\tkl:  -80.446671\n",
      "Epoch:   1 [23100/50000 (46%)]  \tLoss:  -73.565323\trec:  200.947418\tkl:  -80.216682\n",
      "Epoch:   1 [24100/50000 (48%)]  \tLoss:  -74.118477\trec:  205.273041\tkl:  -81.118286\n",
      "Epoch:   1 [25100/50000 (50%)]  \tLoss:  -74.155579\trec:  201.754303\tkl:  -81.237152\n",
      "Epoch:   1 [26100/50000 (52%)]  \tLoss:  -73.205803\trec:  207.493515\tkl:  -80.696320\n",
      "Epoch:   1 [27100/50000 (54%)]  \tLoss:  -73.264778\trec:  205.819153\tkl:  -80.900665\n",
      "Epoch:   1 [28100/50000 (56%)]  \tLoss:  -73.502350\trec:  198.429214\tkl:  -81.062508\n",
      "Epoch:   1 [29100/50000 (58%)]  \tLoss:  -72.915665\trec:  198.648285\tkl:  -80.682816\n",
      "Epoch:   1 [30100/50000 (60%)]  \tLoss:  -72.052780\trec:  204.576080\tkl:  -80.256287\n",
      "Epoch:   1 [31100/50000 (62%)]  \tLoss:  -70.402077\trec:  212.660660\tkl:  -79.142433\n",
      "Epoch:   1 [32100/50000 (64%)]  \tLoss:  -71.692474\trec:  203.074173\tkl:  -80.241898\n",
      "Epoch:   1 [33100/50000 (66%)]  \tLoss:  -69.328995\trec:  221.599655\tkl:  -78.879936\n",
      "Epoch:   1 [34100/50000 (68%)]  \tLoss:  -70.456062\trec:  196.988754\tkl:  -79.143265\n",
      "Epoch:   1 [35100/50000 (70%)]  \tLoss:  -70.759850\trec:  208.878510\tkl:  -80.180267\n",
      "Epoch:   1 [36100/50000 (72%)]  \tLoss:  -70.130028\trec:  202.700668\tkl:  -79.474525\n",
      "Epoch:   1 [37100/50000 (74%)]  \tLoss:  -69.716194\trec:  210.969254\tkl:  -79.652847\n",
      "Epoch:   1 [38100/50000 (76%)]  \tLoss:  -69.780754\trec:  200.712662\tkl:  -79.435036\n",
      "Epoch:   1 [39100/50000 (78%)]  \tLoss:  -70.161385\trec:  201.690231\tkl:  -80.064377\n",
      "Epoch:   1 [40100/50000 (80%)]  \tLoss:  -68.372215\trec:  210.903244\tkl:  -78.938469\n",
      "Epoch:   1 [41100/50000 (82%)]  \tLoss:  -70.055565\trec:  204.505981\tkl:  -80.505821\n",
      "Epoch:   1 [42100/50000 (84%)]  \tLoss:  -70.063454\trec:  201.848862\tkl:  -80.579788\n",
      "Epoch:   1 [43100/50000 (86%)]  \tLoss:  -67.939217\trec:  209.029068\tkl:  -79.038666\n"
     ]
    }
   ],
   "source": [
    "%run main_experiment_VAE.py --manual_seed 55158 -vp True"
   ]
  },
  {
   "cell_type": "code",
   "execution_count": null,
   "metadata": {},
   "outputs": [],
   "source": []
  }
 ],
 "metadata": {
  "accelerator": "GPU",
  "colab": {
   "name": "k10_2.ipynb",
   "provenance": []
  },
  "kernelspec": {
   "display_name": "Python 3",
   "language": "python",
   "name": "python3"
  },
  "language_info": {
   "codemirror_mode": {
    "name": "ipython",
    "version": 3
   },
   "file_extension": ".py",
   "mimetype": "text/x-python",
   "name": "python",
   "nbconvert_exporter": "python",
   "pygments_lexer": "ipython3",
   "version": "3.8.8"
  }
 },
 "nbformat": 4,
 "nbformat_minor": 1
}
